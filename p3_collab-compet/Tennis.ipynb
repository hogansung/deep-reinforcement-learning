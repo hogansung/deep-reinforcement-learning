{
 "cells": [
  {
   "cell_type": "markdown",
   "metadata": {},
   "source": [
    "# Collaboration and Competition\n",
    "\n",
    "---\n",
    "\n",
    "In this notebook, you will learn how to use the Unity ML-Agents environment for the third project of the [Deep Reinforcement Learning Nanodegree](https://www.udacity.com/course/deep-reinforcement-learning-nanodegree--nd893) program.\n",
    "\n",
    "### 1. Start the Environment\n",
    "\n",
    "We begin by importing the necessary packages.  If the code cell below returns an error, please revisit the project instructions to double-check that you have installed [Unity ML-Agents](https://github.com/Unity-Technologies/ml-agents/blob/master/docs/Installation.md) and [NumPy](http://www.numpy.org/)."
   ]
  },
  {
   "cell_type": "code",
   "execution_count": 1,
   "metadata": {},
   "outputs": [],
   "source": [
    "# from unityagents import UnityEnvironment\n",
    "# import numpy as np"
   ]
  },
  {
   "cell_type": "markdown",
   "metadata": {},
   "source": [
    "Next, we will start the environment!  **_Before running the code cell below_**, change the `file_name` parameter to match the location of the Unity environment that you downloaded.\n",
    "\n",
    "- **Mac**: `\"path/to/Tennis.app\"`\n",
    "- **Windows** (x86): `\"path/to/Tennis_Windows_x86/Tennis.exe\"`\n",
    "- **Windows** (x86_64): `\"path/to/Tennis_Windows_x86_64/Tennis.exe\"`\n",
    "- **Linux** (x86): `\"path/to/Tennis_Linux/Tennis.x86\"`\n",
    "- **Linux** (x86_64): `\"path/to/Tennis_Linux/Tennis.x86_64\"`\n",
    "- **Linux** (x86, headless): `\"path/to/Tennis_Linux_NoVis/Tennis.x86\"`\n",
    "- **Linux** (x86_64, headless): `\"path/to/Tennis_Linux_NoVis/Tennis.x86_64\"`\n",
    "\n",
    "For instance, if you are using a Mac, then you downloaded `Tennis.app`.  If this file is in the same folder as the notebook, then the line below should appear as follows:\n",
    "```\n",
    "env = UnityEnvironment(file_name=\"Tennis.app\")\n",
    "```"
   ]
  },
  {
   "cell_type": "code",
   "execution_count": 2,
   "metadata": {},
   "outputs": [],
   "source": [
    "# env = UnityEnvironment(file_name=\"Tennis_Linux/Tennis.x86_64\")"
   ]
  },
  {
   "cell_type": "markdown",
   "metadata": {},
   "source": [
    "Environments contain **_brains_** which are responsible for deciding the actions of their associated agents. Here we check for the first brain available, and set it as the default brain we will be controlling from Python."
   ]
  },
  {
   "cell_type": "code",
   "execution_count": 3,
   "metadata": {},
   "outputs": [],
   "source": [
    "# # get the default brain\n",
    "# brain_name = env.brain_names[0]\n",
    "# brain = env.brains[brain_name]"
   ]
  },
  {
   "cell_type": "markdown",
   "metadata": {},
   "source": [
    "### 2. Examine the State and Action Spaces\n",
    "\n",
    "In this environment, two agents control rackets to bounce a ball over a net. If an agent hits the ball over the net, it receives a reward of +0.1.  If an agent lets a ball hit the ground or hits the ball out of bounds, it receives a reward of -0.01.  Thus, the goal of each agent is to keep the ball in play.\n",
    "\n",
    "The observation space consists of 8 variables corresponding to the position and velocity of the ball and racket. Two continuous actions are available, corresponding to movement toward (or away from) the net, and jumping. \n",
    "\n",
    "Run the code cell below to print some information about the environment."
   ]
  },
  {
   "cell_type": "code",
   "execution_count": 4,
   "metadata": {},
   "outputs": [],
   "source": [
    "# # reset the environment\n",
    "# env_info = env.reset(train_mode=True)[brain_name]\n",
    "\n",
    "# # number of agents \n",
    "# num_agents = len(env_info.agents)\n",
    "# print('Number of agents:', num_agents)\n",
    "\n",
    "# # size of each action\n",
    "# action_size = brain.vector_action_space_size\n",
    "# print('Size of each action:', action_size)\n",
    "\n",
    "# # examine the state space \n",
    "# states = env_info.vector_observations\n",
    "# state_size = states.shape[1]\n",
    "# print('There are {} agents. Each observes a state with length: {}'.format(states.shape[0], state_size))\n",
    "# print('The state for the first agent looks like:', states[0])"
   ]
  },
  {
   "cell_type": "markdown",
   "metadata": {},
   "source": [
    "### 3. Take Random Actions in the Environment\n",
    "\n",
    "In the next code cell, you will learn how to use the Python API to control the agents and receive feedback from the environment.\n",
    "\n",
    "Once this cell is executed, you will watch the agents' performance, if they select actions at random with each time step.  A window should pop up that allows you to observe the agents.\n",
    "\n",
    "Of course, as part of the project, you'll have to change the code so that the agents are able to use their experiences to gradually choose better actions when interacting with the environment!"
   ]
  },
  {
   "cell_type": "code",
   "execution_count": 5,
   "metadata": {},
   "outputs": [],
   "source": [
    "# for i in range(1, 6):                                      # play game for 5 episodes\n",
    "#     env_info = env.reset(train_mode=False)[brain_name]     # reset the environment    \n",
    "#     states = env_info.vector_observations                  # get the current state (for each agent)\n",
    "#     scores = np.zeros(num_agents)                          # initialize the score (for each agent)\n",
    "#     while True:\n",
    "#         actions = np.random.randn(num_agents, action_size) # select an action (for each agent)\n",
    "#         actions = np.clip(actions, -1, 1)                  # all actions between -1 and 1\n",
    "#         env_info = env.step(actions)[brain_name]           # send all actions to tne environment\n",
    "#         next_states = env_info.vector_observations         # get next state (for each agent)\n",
    "#         rewards = env_info.rewards                         # get reward (for each agent)\n",
    "#         dones = env_info.local_done                        # see if episode finished\n",
    "#         scores += env_info.rewards                         # update the score (for each agent)\n",
    "#         states = next_states                               # roll over states to next time step\n",
    "#         if np.any(dones):                                  # exit loop if episode finished\n",
    "#             break\n",
    "#     print('Score (max over agents) from episode {}: {}'.format(i, np.max(scores)))"
   ]
  },
  {
   "cell_type": "markdown",
   "metadata": {},
   "source": [
    "When finished, you can close the environment."
   ]
  },
  {
   "cell_type": "code",
   "execution_count": 6,
   "metadata": {},
   "outputs": [],
   "source": [
    "# env.close()"
   ]
  },
  {
   "cell_type": "markdown",
   "metadata": {},
   "source": [
    "### 4. It's Your Turn!\n",
    "\n",
    "Now it's your turn to train your own agent to solve the environment!  When training the environment, set `train_mode=True`, so that the line for resetting the environment looks like the following:\n",
    "```python\n",
    "env_info = env.reset(train_mode=True)[brain_name]\n",
    "```"
   ]
  },
  {
   "cell_type": "code",
   "execution_count": 7,
   "metadata": {},
   "outputs": [
    {
     "name": "stdout",
     "output_type": "stream",
     "text": [
      "Device cuda is currently used.\n"
     ]
    }
   ],
   "source": [
    "import os\n",
    "from collections import deque\n",
    "from typing import Deque, List\n",
    "\n",
    "import matplotlib.pyplot as plt\n",
    "import numpy as np\n",
    "import pickle\n",
    "import torch\n",
    "from unityagents import UnityEnvironment\n",
    "\n",
    "from agent import Agent\n",
    "from agent_manager import AgentManager"
   ]
  },
  {
   "cell_type": "code",
   "execution_count": 8,
   "metadata": {},
   "outputs": [],
   "source": [
    "%load_ext autoreload\n",
    "%autoreload 2"
   ]
  },
  {
   "cell_type": "code",
   "execution_count": 9,
   "metadata": {},
   "outputs": [
    {
     "name": "stderr",
     "output_type": "stream",
     "text": [
      "INFO:unityagents:\n",
      "'Academy' started successfully!\n",
      "Unity Academy name: Academy\n",
      "        Number of Brains: 1\n",
      "        Number of External Brains : 1\n",
      "        Lesson number : 0\n",
      "        Reset Parameters :\n",
      "\t\t\n",
      "Unity brain name: TennisBrain\n",
      "        Number of Visual Observations (per agent): 0\n",
      "        Vector Observation space type: continuous\n",
      "        Vector Observation space size (per agent): 8\n",
      "        Number of stacked Vector Observation: 3\n",
      "        Vector Action space type: continuous\n",
      "        Vector Action space size (per agent): 2\n",
      "        Vector Action descriptions: , \n"
     ]
    }
   ],
   "source": [
    "env = UnityEnvironment(file_name=\"Tennis_Linux/Tennis.x86_64\")\n",
    "brain_name = env.brain_names[0]\n",
    "brain = env.brains[brain_name]\n",
    "\n",
    "env_info = env.reset(train_mode=True)[brain_name]\n",
    "num_agents = len(env_info.agents)\n",
    "action_size = brain.vector_action_space_size\n",
    "num_stacked_observations = brain.num_stacked_vector_observations\n",
    "observation_space_size = brain.vector_observation_space_size\n",
    "state_size = num_stacked_observations * observation_space_size"
   ]
  },
  {
   "cell_type": "code",
   "execution_count": 10,
   "metadata": {},
   "outputs": [],
   "source": [
    "def train_with_agent_manager(\n",
    "    env,\n",
    "    brain_name: str,\n",
    "    agent_manager: AgentManager,\n",
    "    n_episodes: int = 10000,\n",
    "    max_timestamp_per_episode: int = 100,\n",
    "    num_timestamp_per_print: int = 100,\n",
    ") -> List[float]:\n",
    "    scores_window = deque(maxlen=num_timestamp_per_print)\n",
    "    scores_by_episode = []\n",
    "\n",
    "    is_problem_solved = False\n",
    "    for episode_idx in range(1, n_episodes + 1):\n",
    "        env_info = env.reset(train_mode=True)[brain_name]\n",
    "        agent_states = env_info.vector_observations\n",
    "        agent_manager.noise.reset()\n",
    "        agent_scores = np.zeros(num_agents)\n",
    "        \n",
    "#         list(agent_manager.agents[0].local_actor.hidden_layers[0].parameters())\n",
    "\n",
    "        timestamp = 0\n",
    "        while True:\n",
    "            timestamp += 1\n",
    "#         for timestamp in range(max_timestamp_per_episode):\n",
    "            agent_actions = agent_manager.act(agent_states)\n",
    "#             print(\"states\", agent_states)\n",
    "#             print(\"actions\", agent_actions)\n",
    "#             if timestamp == 10:\n",
    "#                 return\n",
    "#             agent_actions = np.random.randn(num_agents, action_size)\n",
    "#             agent_actions = np.clip(agent_actions, -1, 1) \n",
    "            env_info = env.step(agent_actions)[brain_name]\n",
    "            agent_next_states, agent_rewards, agent_dones = (\n",
    "                env_info.vector_observations,\n",
    "                env_info.rewards,\n",
    "                env_info.local_done,\n",
    "            )\n",
    "#             print(\"next_states\", agent_next_states)\n",
    "#             print(\"rewards\", agent_rewards)\n",
    "#             print(\"dones\", agent_dones)\n",
    "\n",
    "            agent_manager.step(\n",
    "                agent_states,\n",
    "                agent_actions,\n",
    "                agent_rewards,\n",
    "                agent_next_states,\n",
    "                agent_dones,\n",
    "                timestamp,\n",
    "            )\n",
    "\n",
    "            agent_states = agent_next_states\n",
    "            agent_scores += agent_rewards\n",
    "            if np.any(agent_dones):\n",
    "                break\n",
    "\n",
    "        max_score_by_episode = np.max(agent_scores)\n",
    "        scores_window.append(max_score_by_episode)\n",
    "        scores_by_episode.append(max_score_by_episode)\n",
    "        average_score = np.mean(scores_window)\n",
    "\n",
    "        print(\n",
    "            f\"\\rEpisode {episode_idx}\\t\"\n",
    "            f\"\\tMax score: {max_score_by_episode:.4f}\\t\"\n",
    "            f\"\\tAverage score: {average_score:.4f}\",\n",
    "            end=\"\",\n",
    "        )\n",
    "        \n",
    "        if episode_idx % num_timestamp_per_print == 0:\n",
    "            print(\n",
    "                f\"\\rEpisode {episode_idx}\"\n",
    "                f\"\\tMax score: {max_score_by_episode:.4f}\"\n",
    "                f\"\\tAverage score: {average_score:.4f}\"\n",
    "            )\n",
    "\n",
    "        if average_score >= 0.5:\n",
    "            if not is_problem_solved:\n",
    "                is_problem_solved = True\n",
    "                print(f\"Problem solved within {episode_idx} episodes.\")\n",
    "                return scores_by_episode\n",
    "            \n",
    "        # Update the noise scaler\n",
    "        agent_manager.noise.step()\n",
    "    \n",
    "    return scores_by_episode"
   ]
  },
  {
   "cell_type": "code",
   "execution_count": 11,
   "metadata": {},
   "outputs": [],
   "source": [
    "def draw_scores(scores: List[float]) -> None:\n",
    "    fig = plt.figure(figsize=(12, 8))\n",
    "    plt.plot(scores)\n",
    "    plt.ylabel('Average score')\n",
    "    plt.xlabel('Number of episodes')\n",
    "    plt.show()"
   ]
  },
  {
   "cell_type": "code",
   "execution_count": 12,
   "metadata": {},
   "outputs": [],
   "source": [
    "agent_manager = AgentManager(\n",
    "    num_agents,\n",
    "    state_size=state_size,\n",
    "    action_size=action_size,\n",
    "    seed=514,\n",
    ")"
   ]
  },
  {
   "cell_type": "code",
   "execution_count": 13,
   "metadata": {
    "scrolled": false
   },
   "outputs": [
    {
     "name": "stdout",
     "output_type": "stream",
     "text": [
      "Episode 100\tMax score: 0.0000\tAverage score: 0.005757\n",
      "Episode 200\tMax score: 0.0000\tAverage score: 0.000000\n",
      "Episode 300\tMax score: 0.0000\tAverage score: 0.000000\n",
      "Episode 400\tMax score: 0.0000\tAverage score: 0.004040\n",
      "Episode 500\tMax score: 0.0000\tAverage score: 0.000909\n",
      "Episode 600\tMax score: 0.0000\tAverage score: 0.023030\n",
      "Episode 700\tMax score: 0.0900\tAverage score: 0.034040\n",
      "Episode 800\tMax score: 0.0900\tAverage score: 0.079494\n",
      "Episode 900\tMax score: 0.1000\tAverage score: 0.091313\n",
      "Episode 1000\tMax score: 0.1000\tAverage score: 0.095050\n",
      "Episode 1100\tMax score: 0.1000\tAverage score: 0.098888\n",
      "Episode 1200\tMax score: 0.1000\tAverage score: 0.119292\n",
      "Episode 1300\tMax score: 0.2900\tAverage score: 0.127777\n",
      "Episode 1400\tMax score: 0.3900\tAverage score: 0.150101\n",
      "Episode 1500\tMax score: 0.1000\tAverage score: 0.175050\n",
      "Episode 1600\tMax score: 0.2000\tAverage score: 0.162424\n",
      "Episode 1700\tMax score: 0.2000\tAverage score: 0.251919\n",
      "Episode 1786\t\tMax score: 2.6000\t\tAverage score: 0.5081Problem solved within 1786 episodes.\n"
     ]
    }
   ],
   "source": [
    "scores_by_episode = train_with_agent_manager(env, brain_name, agent_manager)"
   ]
  },
  {
   "cell_type": "code",
   "execution_count": 14,
   "metadata": {},
   "outputs": [],
   "source": [
    "# OVERWRITE = True\n",
    "# ACTOR_MODEL_FILE_PATH = \"ddpg_actor_local.pt\"\n",
    "# CRITIC_MODEL_FILE_PATH = \"ddpg_critic_local.pt\"\n",
    "\n",
    "# agent_manager = AgentManager(\n",
    "#     num_agents,\n",
    "#     state_size=brain.vector_observation_space_size,\n",
    "#     action_size=brain.vector_action_space_size,\n",
    "#     seed=514,\n",
    "# )\n",
    "\n",
    "# if (\n",
    "#     not OVERWRITE\n",
    "#     and os.path.exists(ACTOR_MODEL_FILE_PATH)\n",
    "#     and os.path.exists(CRITIC_MODEL_FILE_PATH)\n",
    "# ):\n",
    "#     agent_manager.actor_local.load_state_dict(torch.load(ACTOR_MODEL_FILE_PATH))\n",
    "#     agent_manager.critic_local.load_state_dict(torch.load(CRITIC_MODEL_FILE_PATH))\n",
    "# else:\n",
    "#     scores_by_episode = train_with_agent_manager(env, brain_name, agent_manager)\n",
    "#     torch.save(agent_manager.actor_local.state_dict(), ACTOR_MODEL_FILE_PATH)\n",
    "#     torch.save(agent_manager.critic_local.state_dict(), CRITIC_MODEL_FILE_PATH)\n",
    "#     draw_scores(scores_by_episode)"
   ]
  },
  {
   "cell_type": "code",
   "execution_count": 15,
   "metadata": {},
   "outputs": [],
   "source": [
    "# torch.save(agent_manager.actor_local.state_dict(), ACTOR_MODEL_FILE_PATH)\n",
    "# torch.save(agent_manager.critic_local.state_dict(), ACTOR_MODEL_FILE_PATH)"
   ]
  },
  {
   "cell_type": "code",
   "execution_count": 16,
   "metadata": {},
   "outputs": [],
   "source": [
    "env.close()"
   ]
  }
 ],
 "metadata": {
  "kernelspec": {
   "display_name": "drlnd",
   "language": "python",
   "name": "drlnd"
  },
  "language_info": {
   "codemirror_mode": {
    "name": "ipython",
    "version": 3
   },
   "file_extension": ".py",
   "mimetype": "text/x-python",
   "name": "python",
   "nbconvert_exporter": "python",
   "pygments_lexer": "ipython3",
   "version": "3.6.13"
  }
 },
 "nbformat": 4,
 "nbformat_minor": 2
}
