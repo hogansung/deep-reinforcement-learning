{
 "cells": [
  {
   "cell_type": "markdown",
   "metadata": {},
   "source": [
    "# Collaboration and Competition\n",
    "\n",
    "---\n",
    "\n",
    "In this notebook, you will learn how to use the Unity ML-Agents environment for the third project of the [Deep Reinforcement Learning Nanodegree](https://www.udacity.com/course/deep-reinforcement-learning-nanodegree--nd893) program.\n",
    "\n",
    "### 1. Start the Environment\n",
    "\n",
    "We begin by importing the necessary packages.  If the code cell below returns an error, please revisit the project instructions to double-check that you have installed [Unity ML-Agents](https://github.com/Unity-Technologies/ml-agents/blob/master/docs/Installation.md) and [NumPy](http://www.numpy.org/)."
   ]
  },
  {
   "cell_type": "code",
   "execution_count": 1,
   "metadata": {},
   "outputs": [],
   "source": [
    "# from unityagents import UnityEnvironment\n",
    "# import numpy as np"
   ]
  },
  {
   "cell_type": "markdown",
   "metadata": {},
   "source": [
    "Next, we will start the environment!  **_Before running the code cell below_**, change the `file_name` parameter to match the location of the Unity environment that you downloaded.\n",
    "\n",
    "- **Mac**: `\"path/to/Tennis.app\"`\n",
    "- **Windows** (x86): `\"path/to/Tennis_Windows_x86/Tennis.exe\"`\n",
    "- **Windows** (x86_64): `\"path/to/Tennis_Windows_x86_64/Tennis.exe\"`\n",
    "- **Linux** (x86): `\"path/to/Tennis_Linux/Tennis.x86\"`\n",
    "- **Linux** (x86_64): `\"path/to/Tennis_Linux/Tennis.x86_64\"`\n",
    "- **Linux** (x86, headless): `\"path/to/Tennis_Linux_NoVis/Tennis.x86\"`\n",
    "- **Linux** (x86_64, headless): `\"path/to/Tennis_Linux_NoVis/Tennis.x86_64\"`\n",
    "\n",
    "For instance, if you are using a Mac, then you downloaded `Tennis.app`.  If this file is in the same folder as the notebook, then the line below should appear as follows:\n",
    "```\n",
    "env = UnityEnvironment(file_name=\"Tennis.app\")\n",
    "```"
   ]
  },
  {
   "cell_type": "code",
   "execution_count": 2,
   "metadata": {},
   "outputs": [],
   "source": [
    "# env = UnityEnvironment(file_name=\"Tennis_Linux/Tennis.x86_64\")"
   ]
  },
  {
   "cell_type": "markdown",
   "metadata": {},
   "source": [
    "Environments contain **_brains_** which are responsible for deciding the actions of their associated agents. Here we check for the first brain available, and set it as the default brain we will be controlling from Python."
   ]
  },
  {
   "cell_type": "code",
   "execution_count": 3,
   "metadata": {},
   "outputs": [],
   "source": [
    "# # get the default brain\n",
    "# brain_name = env.brain_names[0]\n",
    "# brain = env.brains[brain_name]"
   ]
  },
  {
   "cell_type": "markdown",
   "metadata": {},
   "source": [
    "### 2. Examine the State and Action Spaces\n",
    "\n",
    "In this environment, two agents control rackets to bounce a ball over a net. If an agent hits the ball over the net, it receives a reward of +0.1.  If an agent lets a ball hit the ground or hits the ball out of bounds, it receives a reward of -0.01.  Thus, the goal of each agent is to keep the ball in play.\n",
    "\n",
    "The observation space consists of 8 variables corresponding to the position and velocity of the ball and racket. Two continuous actions are available, corresponding to movement toward (or away from) the net, and jumping. \n",
    "\n",
    "Run the code cell below to print some information about the environment."
   ]
  },
  {
   "cell_type": "code",
   "execution_count": 4,
   "metadata": {},
   "outputs": [],
   "source": [
    "# # reset the environment\n",
    "# env_info = env.reset(train_mode=True)[brain_name]\n",
    "\n",
    "# # number of agents \n",
    "# num_agents = len(env_info.agents)\n",
    "# print('Number of agents:', num_agents)\n",
    "\n",
    "# # size of each action\n",
    "# action_size = brain.vector_action_space_size\n",
    "# print('Size of each action:', action_size)\n",
    "\n",
    "# # examine the state space \n",
    "# states = env_info.vector_observations\n",
    "# state_size = states.shape[1]\n",
    "# print('There are {} agents. Each observes a state with length: {}'.format(states.shape[0], state_size))\n",
    "# print('The state for the first agent looks like:', states[0])"
   ]
  },
  {
   "cell_type": "markdown",
   "metadata": {},
   "source": [
    "### 3. Take Random Actions in the Environment\n",
    "\n",
    "In the next code cell, you will learn how to use the Python API to control the agents and receive feedback from the environment.\n",
    "\n",
    "Once this cell is executed, you will watch the agents' performance, if they select actions at random with each time step.  A window should pop up that allows you to observe the agents.\n",
    "\n",
    "Of course, as part of the project, you'll have to change the code so that the agents are able to use their experiences to gradually choose better actions when interacting with the environment!"
   ]
  },
  {
   "cell_type": "code",
   "execution_count": 5,
   "metadata": {},
   "outputs": [],
   "source": [
    "# for i in range(1, 6):                                      # play game for 5 episodes\n",
    "#     env_info = env.reset(train_mode=False)[brain_name]     # reset the environment    \n",
    "#     states = env_info.vector_observations                  # get the current state (for each agent)\n",
    "#     scores = np.zeros(num_agents)                          # initialize the score (for each agent)\n",
    "#     while True:\n",
    "#         actions = np.random.randn(num_agents, action_size) # select an action (for each agent)\n",
    "#         actions = np.clip(actions, -1, 1)                  # all actions between -1 and 1\n",
    "#         env_info = env.step(actions)[brain_name]           # send all actions to tne environment\n",
    "#         next_states = env_info.vector_observations         # get next state (for each agent)\n",
    "#         rewards = env_info.rewards                         # get reward (for each agent)\n",
    "#         dones = env_info.local_done                        # see if episode finished\n",
    "#         scores += env_info.rewards                         # update the score (for each agent)\n",
    "#         states = next_states                               # roll over states to next time step\n",
    "#         if np.any(dones):                                  # exit loop if episode finished\n",
    "#             break\n",
    "#     print('Score (max over agents) from episode {}: {}'.format(i, np.max(scores)))"
   ]
  },
  {
   "cell_type": "markdown",
   "metadata": {},
   "source": [
    "When finished, you can close the environment."
   ]
  },
  {
   "cell_type": "code",
   "execution_count": 6,
   "metadata": {},
   "outputs": [],
   "source": [
    "# env.close()"
   ]
  },
  {
   "cell_type": "markdown",
   "metadata": {},
   "source": [
    "### 4. It's Your Turn!\n",
    "\n",
    "Now it's your turn to train your own agent to solve the environment!  When training the environment, set `train_mode=True`, so that the line for resetting the environment looks like the following:\n",
    "```python\n",
    "env_info = env.reset(train_mode=True)[brain_name]\n",
    "```"
   ]
  },
  {
   "cell_type": "code",
   "execution_count": 7,
   "metadata": {},
   "outputs": [
    {
     "name": "stdout",
     "output_type": "stream",
     "text": [
      "Device cuda is currently used.\n"
     ]
    }
   ],
   "source": [
    "import os\n",
    "from collections import deque\n",
    "from typing import Deque, List\n",
    "\n",
    "import matplotlib.pyplot as plt\n",
    "import numpy as np\n",
    "import pickle\n",
    "import torch\n",
    "from unityagents import UnityEnvironment\n",
    "\n",
    "from agent import Agent\n",
    "from agent_manager import AgentManager"
   ]
  },
  {
   "cell_type": "code",
   "execution_count": 8,
   "metadata": {},
   "outputs": [],
   "source": [
    "%load_ext autoreload\n",
    "%autoreload 2"
   ]
  },
  {
   "cell_type": "code",
   "execution_count": 9,
   "metadata": {},
   "outputs": [
    {
     "name": "stderr",
     "output_type": "stream",
     "text": [
      "INFO:unityagents:\n",
      "'Academy' started successfully!\n",
      "Unity Academy name: Academy\n",
      "        Number of Brains: 1\n",
      "        Number of External Brains : 1\n",
      "        Lesson number : 0\n",
      "        Reset Parameters :\n",
      "\t\t\n",
      "Unity brain name: TennisBrain\n",
      "        Number of Visual Observations (per agent): 0\n",
      "        Vector Observation space type: continuous\n",
      "        Vector Observation space size (per agent): 8\n",
      "        Number of stacked Vector Observation: 3\n",
      "        Vector Action space type: continuous\n",
      "        Vector Action space size (per agent): 2\n",
      "        Vector Action descriptions: , \n"
     ]
    }
   ],
   "source": [
    "env = UnityEnvironment(file_name=\"Tennis_Linux/Tennis.x86_64\")\n",
    "brain_name = env.brain_names[0]\n",
    "brain = env.brains[brain_name]\n",
    "\n",
    "env_info = env.reset(train_mode=True)[brain_name]\n",
    "num_agents = len(env_info.agents)\n",
    "action_size = brain.vector_action_space_size\n",
    "num_stacked_observations = brain.num_stacked_vector_observations\n",
    "observation_space_size = brain.vector_observation_space_size\n",
    "state_size = num_stacked_observations * observation_space_size"
   ]
  },
  {
   "cell_type": "code",
   "execution_count": 10,
   "metadata": {},
   "outputs": [],
   "source": [
    "def train_with_agent_manager(\n",
    "    env,\n",
    "    brain_name: str,\n",
    "    agent_manager: AgentManager,\n",
    "    n_episodes: int = 100,\n",
    "    max_timestamp_per_episode: int = 1000,\n",
    "    num_timestamp_per_print: int = 100,\n",
    ") -> List[float]:\n",
    "    scores_window = deque(maxlen=num_timestamp_per_print)\n",
    "    scores_by_episode = []\n",
    "\n",
    "    is_problem_solved = False\n",
    "    for episode_idx in range(1, n_episodes + 1):\n",
    "        env_info = env.reset(train_mode=True)[brain_name]\n",
    "        agent_states = env_info.vector_observations\n",
    "        agent_manager.reset()\n",
    "        agent_scores = np.zeros(num_agents)\n",
    "\n",
    "        for timestamp in range(max_timestamp_per_episode):\n",
    "            agent_actions = agent_manager.act(agent_states)\n",
    "            env_info = env.step(agent_actions)[brain_name]\n",
    "            next_agent_states, agent_rewards, agent_dones = (\n",
    "                env_info.vector_observations,\n",
    "                env_info.rewards,\n",
    "                env_info.local_done,\n",
    "            )\n",
    "\n",
    "            agent_manager.step(\n",
    "                agent_states,\n",
    "                agent_actions,\n",
    "                agent_rewards,\n",
    "                next_agent_states,\n",
    "                agent_dones,\n",
    "                timestamp,\n",
    "            )\n",
    "\n",
    "            agent_states = next_agent_states\n",
    "            agent_scores += agent_rewards\n",
    "            if np.any(agent_dones):\n",
    "                break\n",
    "\n",
    "        max_score_by_episode = np.max(agent_scores)\n",
    "        scores_window.append(max_score_by_episode)\n",
    "        scores_by_episode.append(max_score_by_episode)\n",
    "        average_score = np.mean(scores_window)\n",
    "\n",
    "        print(f\"Episode {episode_idx} -- Average score: {average_score}\")\n",
    "\n",
    "        if average_score >= 0.5:\n",
    "            if not is_problem_solved:\n",
    "                is_problem_solved = True\n",
    "                print(f\"Problem solved within {episode_idx} episodes.\")\n",
    "            print(f\"Average score: {average_score}\")\n",
    "    \n",
    "    return scores_by_episode"
   ]
  },
  {
   "cell_type": "code",
   "execution_count": 11,
   "metadata": {},
   "outputs": [],
   "source": [
    "def draw_scores(scores: List[float]) -> None:\n",
    "    fig = plt.figure(figsize=(12, 8))\n",
    "    plt.plot(scores)\n",
    "    plt.ylabel('Average score')\n",
    "    plt.xlabel('Number of episodes')\n",
    "    plt.show()"
   ]
  },
  {
   "cell_type": "code",
   "execution_count": 30,
   "metadata": {},
   "outputs": [
    {
     "name": "stdout",
     "output_type": "stream",
     "text": [
      "Device cuda is currently used.\n"
     ]
    }
   ],
   "source": [
    "agent_manager = AgentManager(\n",
    "    num_agents,\n",
    "    state_size=state_size,\n",
    "    action_size=action_size,\n",
    "    seed=514,\n",
    ")"
   ]
  },
  {
   "cell_type": "code",
   "execution_count": 31,
   "metadata": {},
   "outputs": [
    {
     "name": "stdout",
     "output_type": "stream",
     "text": [
      "Episode 1 -- Average score: 0.0\n",
      "Episode 2 -- Average score: 0.0\n",
      "Episode 3 -- Average score: 0.0\n",
      "Episode 4 -- Average score: 0.0\n",
      "Episode 5 -- Average score: 0.0\n",
      "Episode 6 -- Average score: 0.0\n",
      "Episode 7 -- Average score: 0.0\n",
      "Episode 8 -- Average score: 0.0\n",
      "Episode 9 -- Average score: 0.0\n",
      "Episode 10 -- Average score: 0.0\n",
      "Episode 11 -- Average score: 0.0\n",
      "Episode 12 -- Average score: 0.0\n",
      "Episode 13 -- Average score: 0.0\n",
      "Episode 14 -- Average score: 0.0\n",
      "Episode 15 -- Average score: 0.0\n",
      "Episode 16 -- Average score: 0.0\n",
      "Episode 17 -- Average score: 0.0\n",
      "Episode 18 -- Average score: 0.005555555638339784\n",
      "Episode 19 -- Average score: 0.005263157973164006\n",
      "Episode 20 -- Average score: 0.005000000074505806\n",
      "Episode 21 -- Average score: 0.004761904832862672\n",
      "Episode 22 -- Average score: 0.004545454613187097\n",
      "Episode 23 -- Average score: 0.004347826151744179\n",
      "Episode 24 -- Average score: 0.004166666728754838\n",
      "Episode 25 -- Average score: 0.004000000059604645\n",
      "Episode 26 -- Average score: 0.0038461539034660044\n",
      "Episode 27 -- Average score: 0.0037037037588931896\n",
      "Episode 28 -- Average score: 0.0035714286246470044\n",
      "Episode 29 -- Average score: 0.00344827591345228\n",
      "Episode 30 -- Average score: 0.0033333333830038708\n",
      "Episode 31 -- Average score: 0.0032258064996811653\n",
      "Episode 32 -- Average score: 0.0031250000465661287\n",
      "Episode 33 -- Average score: 0.003030303075458064\n",
      "Episode 34 -- Average score: 0.00294117651441518\n",
      "Episode 35 -- Average score: 0.0028571428997176034\n",
      "Episode 36 -- Average score: 0.002777777819169892\n",
      "Episode 37 -- Average score: 0.002702702742976111\n",
      "Episode 38 -- Average score: 0.002631578986582003\n",
      "Episode 39 -- Average score: 0.0025641026023106696\n",
      "Episode 40 -- Average score: 0.002500000037252903\n",
      "Episode 41 -- Average score: 0.002439024426588198\n",
      "Episode 42 -- Average score: 0.002380952416431336\n",
      "Episode 43 -- Average score: 0.0023255814300027003\n",
      "Episode 44 -- Average score: 0.0022727273065935483\n",
      "Episode 45 -- Average score: 0.0022222222553359137\n",
      "Episode 46 -- Average score: 0.0021739130758720894\n",
      "Episode 47 -- Average score: 0.0021276596061726833\n",
      "Episode 48 -- Average score: 0.002083333364377419\n",
      "Episode 49 -- Average score: 0.0020408163569411455\n",
      "Episode 50 -- Average score: 0.0020000000298023225\n",
      "Episode 51 -- Average score: 0.0019607843429434533\n",
      "Episode 52 -- Average score: 0.0019230769517330022\n",
      "Episode 53 -- Average score: 0.0018867924809455872\n",
      "Episode 54 -- Average score: 0.0018518518794465948\n",
      "Episode 55 -- Average score: 0.0018181818452748385\n",
      "Episode 56 -- Average score: 0.0017857143123235022\n",
      "Episode 57 -- Average score: 0.0017543859910546687\n",
      "Episode 58 -- Average score: 0.00172413795672614\n",
      "Episode 59 -- Average score: 0.0016949152794934936\n",
      "Episode 60 -- Average score: 0.0016666666915019354\n",
      "Episode 61 -- Average score: 0.001639344286723215\n",
      "Episode 62 -- Average score: 0.0016129032498405826\n",
      "Episode 63 -- Average score: 0.0015873016109542242\n",
      "Episode 64 -- Average score: 0.0015625000232830644\n",
      "Episode 65 -- Average score: 0.0015384615613864019\n",
      "Episode 66 -- Average score: 0.001515151537729032\n",
      "Episode 67 -- Average score: 0.0014925373356733749\n",
      "Episode 68 -- Average score: 0.00147058825720759\n",
      "Episode 69 -- Average score: 0.0014492753839147263\n",
      "Episode 70 -- Average score: 0.0014285714498588017\n",
      "Episode 71 -- Average score: 0.001408450725212903\n",
      "Episode 72 -- Average score: 0.001388888909584946\n",
      "Episode 73 -- Average score: 0.0013698630341111796\n",
      "Episode 74 -- Average score: 0.0013513513714880556\n",
      "Episode 75 -- Average score: 0.0013333333532015482\n",
      "Episode 76 -- Average score: 0.0013157894932910015\n",
      "Episode 77 -- Average score: 0.0012987013180534562\n",
      "Episode 78 -- Average score: 0.0012820513011553348\n",
      "Episode 79 -- Average score: 0.0012658228036723559\n",
      "Episode 80 -- Average score: 0.0012500000186264515\n",
      "Episode 81 -- Average score: 0.0012345679196310631\n",
      "Episode 82 -- Average score: 0.001219512213294099\n",
      "Episode 83 -- Average score: 0.00120481929506164\n",
      "Episode 84 -- Average score: 0.001190476208215668\n",
      "Episode 85 -- Average score: 0.001176470605766072\n",
      "Episode 86 -- Average score: 0.0011627907150013501\n",
      "Episode 87 -- Average score: 0.0011494253044840932\n",
      "Episode 88 -- Average score: 0.0011363636532967741\n",
      "Episode 89 -- Average score: 0.0011235955223608553\n",
      "Episode 90 -- Average score: 0.0011111111276679568\n",
      "Episode 91 -- Average score: 0.0010989011152760014\n",
      "Episode 92 -- Average score: 0.0010869565379360447\n",
      "Episode 93 -- Average score: 0.001075268833227055\n",
      "Episode 94 -- Average score: 0.0010638298030863416\n",
      "Episode 95 -- Average score: 0.0010526315946328012\n",
      "Episode 96 -- Average score: 0.0010416666821887095\n",
      "Episode 97 -- Average score: 0.0010309278504135682\n",
      "Episode 98 -- Average score: 0.0010204081784705727\n",
      "Episode 99 -- Average score: 0.001010101025152688\n",
      "Episode 100 -- Average score: 0.0010000000149011613\n"
     ]
    }
   ],
   "source": [
    "scores_by_episode = train_with_agent_manager(env, brain_name, agent_manager)"
   ]
  },
  {
   "cell_type": "code",
   "execution_count": null,
   "metadata": {},
   "outputs": [],
   "source": [
    "# OVERWRITE = True\n",
    "# ACTOR_MODEL_FILE_PATH = \"ddpg_actor_local.pt\"\n",
    "# CRITIC_MODEL_FILE_PATH = \"ddpg_critic_local.pt\"\n",
    "\n",
    "# agent_manager = AgentManager(\n",
    "#     num_agents,\n",
    "#     state_size=brain.vector_observation_space_size,\n",
    "#     action_size=brain.vector_action_space_size,\n",
    "#     seed=514,\n",
    "# )\n",
    "\n",
    "# if (\n",
    "#     not OVERWRITE\n",
    "#     and os.path.exists(ACTOR_MODEL_FILE_PATH)\n",
    "#     and os.path.exists(CRITIC_MODEL_FILE_PATH)\n",
    "# ):\n",
    "#     agent_manager.actor_local.load_state_dict(torch.load(ACTOR_MODEL_FILE_PATH))\n",
    "#     agent_manager.critic_local.load_state_dict(torch.load(CRITIC_MODEL_FILE_PATH))\n",
    "# else:\n",
    "#     scores_by_episode = train_with_agent_manager(env, brain_name, agent_manager)\n",
    "#     torch.save(agent_manager.actor_local.state_dict(), ACTOR_MODEL_FILE_PATH)\n",
    "#     torch.save(agent_manager.critic_local.state_dict(), CRITIC_MODEL_FILE_PATH)\n",
    "#     draw_scores(scores_by_episode)"
   ]
  },
  {
   "cell_type": "code",
   "execution_count": null,
   "metadata": {},
   "outputs": [],
   "source": [
    "# torch.save(agent_manager.actor_local.state_dict(), ACTOR_MODEL_FILE_PATH)\n",
    "# torch.save(agent_manager.critic_local.state_dict(), ACTOR_MODEL_FILE_PATH)"
   ]
  },
  {
   "cell_type": "code",
   "execution_count": null,
   "metadata": {},
   "outputs": [],
   "source": [
    "# env.close()"
   ]
  },
  {
   "cell_type": "code",
   "execution_count": null,
   "metadata": {},
   "outputs": [],
   "source": []
  },
  {
   "cell_type": "code",
   "execution_count": null,
   "metadata": {},
   "outputs": [],
   "source": [
    "!pip install -U numpy"
   ]
  },
  {
   "cell_type": "code",
   "execution_count": null,
   "metadata": {},
   "outputs": [],
   "source": [
    "import numpy.typing as np"
   ]
  }
 ],
 "metadata": {
  "kernelspec": {
   "display_name": "drlnd",
   "language": "python",
   "name": "drlnd"
  },
  "language_info": {
   "codemirror_mode": {
    "name": "ipython",
    "version": 3
   },
   "file_extension": ".py",
   "mimetype": "text/x-python",
   "name": "python",
   "nbconvert_exporter": "python",
   "pygments_lexer": "ipython3",
   "version": "3.6.13"
  }
 },
 "nbformat": 4,
 "nbformat_minor": 2
}
