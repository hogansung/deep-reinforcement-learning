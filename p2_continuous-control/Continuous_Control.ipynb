{
 "cells": [
  {
   "cell_type": "markdown",
   "metadata": {},
   "source": [
    "# Continuous Control\n",
    "\n",
    "---\n",
    "\n",
    "In this notebook, you will learn how to use the Unity ML-Agents environment for the second project of the [Deep Reinforcement Learning Nanodegree](https://www.udacity.com/course/deep-reinforcement-learning-nanodegree--nd893) program.\n",
    "\n",
    "### 1. Start the Environment\n",
    "\n",
    "We begin by importing the necessary packages.  If the code cell below returns an error, please revisit the project instructions to double-check that you have installed [Unity ML-Agents](https://github.com/Unity-Technologies/ml-agents/blob/master/docs/Installation.md) and [NumPy](http://www.numpy.org/)."
   ]
  },
  {
   "cell_type": "code",
   "execution_count": 1,
   "metadata": {},
   "outputs": [],
   "source": [
    "# from unityagents import UnityEnvironment\n",
    "# import numpy as np"
   ]
  },
  {
   "cell_type": "markdown",
   "metadata": {},
   "source": [
    "Next, we will start the environment!  **_Before running the code cell below_**, change the `file_name` parameter to match the location of the Unity environment that you downloaded.\n",
    "\n",
    "- **Mac**: `\"path/to/Reacher.app\"`\n",
    "- **Windows** (x86): `\"path/to/Reacher_Windows_x86/Reacher.exe\"`\n",
    "- **Windows** (x86_64): `\"path/to/Reacher_Windows_x86_64/Reacher.exe\"`\n",
    "- **Linux** (x86): `\"path/to/Reacher_Linux/Reacher.x86\"`\n",
    "- **Linux** (x86_64): `\"path/to/Reacher_Linux/Reacher.x86_64\"`\n",
    "- **Linux** (x86, headless): `\"path/to/Reacher_Linux_NoVis/Reacher.x86\"`\n",
    "- **Linux** (x86_64, headless): `\"path/to/Reacher_Linux_NoVis/Reacher.x86_64\"`\n",
    "\n",
    "For instance, if you are using a Mac, then you downloaded `Reacher.app`.  If this file is in the same folder as the notebook, then the line below should appear as follows:\n",
    "```\n",
    "env = UnityEnvironment(file_name=\"Reacher.app\")\n",
    "```"
   ]
  },
  {
   "cell_type": "code",
   "execution_count": 2,
   "metadata": {},
   "outputs": [],
   "source": [
    "# env = UnityEnvironment(file_name=\"Reacher_Linux_twenty_agents/Reacher.x86_64\")"
   ]
  },
  {
   "cell_type": "markdown",
   "metadata": {},
   "source": [
    "Environments contain **_brains_** which are responsible for deciding the actions of their associated agents. Here we check for the first brain available, and set it as the default brain we will be controlling from Python."
   ]
  },
  {
   "cell_type": "code",
   "execution_count": 3,
   "metadata": {},
   "outputs": [],
   "source": [
    "# # get the default brain\n",
    "# brain_name = env.brain_names[0]\n",
    "# brain = env.brains[brain_name]"
   ]
  },
  {
   "cell_type": "markdown",
   "metadata": {},
   "source": [
    "### 2. Examine the State and Action Spaces\n",
    "\n",
    "In this environment, a double-jointed arm can move to target locations. A reward of `+0.1` is provided for each step that the agent's hand is in the goal location. Thus, the goal of your agent is to maintain its position at the target location for as many time steps as possible.\n",
    "\n",
    "The observation space consists of `33` variables corresponding to position, rotation, velocity, and angular velocities of the arm.  Each action is a vector with four numbers, corresponding to torque applicable to two joints.  Every entry in the action vector must be a number between `-1` and `1`.\n",
    "\n",
    "Run the code cell below to print some information about the environment."
   ]
  },
  {
   "cell_type": "code",
   "execution_count": 4,
   "metadata": {},
   "outputs": [],
   "source": [
    "# # reset the environment\n",
    "# env_info = env.reset(train_mode=True)[brain_name]\n",
    "\n",
    "# # number of agents\n",
    "# num_agents = len(env_info.agents)\n",
    "# print('Number of agents:', num_agents)\n",
    "\n",
    "# # size of each action\n",
    "# action_size = brain.vector_action_space_size\n",
    "# print('Size of each action:', action_size)\n",
    "\n",
    "# # examine the state space \n",
    "# states = env_info.vector_observations\n",
    "# state_size = states.shape[1]\n",
    "# print('There are {} agents. Each observes a state with length: {}'.format(states.shape[0], state_size))\n",
    "# print('The state for the first agent looks like:', states[0])"
   ]
  },
  {
   "cell_type": "markdown",
   "metadata": {},
   "source": [
    "### 3. Take Random Actions in the Environment\n",
    "\n",
    "In the next code cell, you will learn how to use the Python API to control the agent and receive feedback from the environment.\n",
    "\n",
    "Once this cell is executed, you will watch the agent's performance, if it selects an action at random with each time step.  A window should pop up that allows you to observe the agent, as it moves through the environment.  \n",
    "\n",
    "Of course, as part of the project, you'll have to change the code so that the agent is able to use its experience to gradually choose better actions when interacting with the environment!"
   ]
  },
  {
   "cell_type": "code",
   "execution_count": 5,
   "metadata": {},
   "outputs": [],
   "source": [
    "# env_info = env.reset(train_mode=False)[brain_name]     # reset the environment    \n",
    "# states = env_info.vector_observations                  # get the current state (for each agent)\n",
    "# scores = np.zeros(num_agents)                          # initialize the score (for each agent)\n",
    "# while True:\n",
    "#     actions = np.random.randn(num_agents, action_size) # select an action (for each agent)\n",
    "#     actions = np.clip(actions, -1, 1)                  # all actions between -1 and 1\n",
    "#     env_info = env.step(actions)[brain_name]           # send all actions to tne environment\n",
    "#     next_states = env_info.vector_observations         # get next state (for each agent)\n",
    "#     rewards = env_info.rewards                         # get reward (for each agent)\n",
    "#     dones = env_info.local_done                        # see if episode finished\n",
    "#     scores += env_info.rewards                         # update the score (for each agent)\n",
    "#     states = next_states                               # roll over states to next time step\n",
    "#     if np.any(dones):                                  # exit loop if episode finished\n",
    "#         break\n",
    "# print('Total score (averaged over agents) this episode: {}'.format(np.mean(scores)))"
   ]
  },
  {
   "cell_type": "markdown",
   "metadata": {},
   "source": [
    "When finished, you can close the environment."
   ]
  },
  {
   "cell_type": "code",
   "execution_count": 6,
   "metadata": {},
   "outputs": [],
   "source": [
    "# env.close()"
   ]
  },
  {
   "cell_type": "markdown",
   "metadata": {},
   "source": [
    "### 4. It's Your Turn!\n",
    "\n",
    "Now it's your turn to train your own agent to solve the environment!  When training the environment, set `train_mode=True`, so that the line for resetting the environment looks like the following:\n",
    "```python\n",
    "env_info = env.reset(train_mode=True)[brain_name]\n",
    "```"
   ]
  },
  {
   "cell_type": "code",
   "execution_count": 7,
   "metadata": {},
   "outputs": [
    {
     "name": "stdout",
     "output_type": "stream",
     "text": [
      "Currently is using device: cuda\n",
      "Currently is using device: cuda\n"
     ]
    }
   ],
   "source": [
    "import os\n",
    "from collections import deque\n",
    "from typing import Deque, List\n",
    "\n",
    "import numpy as np\n",
    "import pickle\n",
    "import torch\n",
    "from unityagents import UnityEnvironment\n",
    "from skimage import color\n",
    "from skimage.transform import resize\n",
    "\n",
    "from agent import Agent\n",
    "from agent_manager import AgentManager"
   ]
  },
  {
   "cell_type": "code",
   "execution_count": 8,
   "metadata": {},
   "outputs": [],
   "source": [
    "%load_ext autoreload\n",
    "%autoreload 2"
   ]
  },
  {
   "cell_type": "code",
   "execution_count": 9,
   "metadata": {},
   "outputs": [
    {
     "name": "stderr",
     "output_type": "stream",
     "text": [
      "INFO:unityagents:\n",
      "'Academy' started successfully!\n",
      "Unity Academy name: Academy\n",
      "        Number of Brains: 1\n",
      "        Number of External Brains : 1\n",
      "        Lesson number : 0\n",
      "        Reset Parameters :\n",
      "\t\tgoal_size -> 5.0\n",
      "\t\tgoal_speed -> 1.0\n",
      "Unity brain name: ReacherBrain\n",
      "        Number of Visual Observations (per agent): 0\n",
      "        Vector Observation space type: continuous\n",
      "        Vector Observation space size (per agent): 33\n",
      "        Number of stacked Vector Observation: 1\n",
      "        Vector Action space type: continuous\n",
      "        Vector Action space size (per agent): 4\n",
      "        Vector Action descriptions: , , , \n"
     ]
    }
   ],
   "source": [
    "# env = UnityEnvironment(file_name=\"Reacher_Linux_single_agent/Reacher.x86_64\")\n",
    "env = UnityEnvironment(file_name=\"Reacher_Linux_twenty_agents/Reacher.x86_64\")\n",
    "brain_name = env.brain_names[0]\n",
    "brain = env.brains[brain_name]\n",
    "\n",
    "env_info = env.reset(train_mode=True)[brain_name]\n",
    "num_agents = len(env_info.agents)"
   ]
  },
  {
   "cell_type": "code",
   "execution_count": 10,
   "metadata": {},
   "outputs": [],
   "source": [
    "# def train_with_agent(\n",
    "#     env,\n",
    "#     brain_name: str,\n",
    "#     agents: List[int],\n",
    "#     n_episodes: int = 2000,\n",
    "#     max_timestamp_per_episode: int = 1000,\n",
    "#     num_timestamp_per_print: int = 100,\n",
    "# ) -> List[float]:\n",
    "#     scores_window = deque(maxlen=num_timestamp_per_print)\n",
    "#     scores_by_episode = []\n",
    "\n",
    "#     for episode_idx in range(1, n_episodes + 1):\n",
    "#         env_info = env.reset(train_mode=True)[brain_name]\n",
    "#         states = env_info.vector_observations\n",
    "\n",
    "#         for agent in agents:\n",
    "#             agent.reset()\n",
    "\n",
    "#         scores = np.zeros(len(agents))\n",
    "\n",
    "#         for timestamp in range(max_timestamp_per_episode):\n",
    "#             actions = [agent.act(state) for agent, state in zip(agents, states)]\n",
    "#             env_info = env.step(actions)[brain_name]\n",
    "#             next_states, rewards, dones = (\n",
    "#                 env_info.vector_observations,\n",
    "#                 env_info.rewards,\n",
    "#                 env_info.local_done,\n",
    "#             )\n",
    "\n",
    "#             for agent, state, action, reward, next_state, done in zip(\n",
    "#                 agents, states, actions, rewards, next_states, dones\n",
    "#             ):\n",
    "#                 agent.step(state, action, reward, next_state, done, timestamp)\n",
    "\n",
    "#             states = next_states\n",
    "#             scores += rewards\n",
    "#             if np.any(dones):\n",
    "#                 break\n",
    "\n",
    "#         average_score_by_episode = np.mean(scores)\n",
    "#         scores_window.append(average_score_by_episode)\n",
    "#         scores_by_episode.append(average_score_by_episode)\n",
    "#         average_score = np.mean(scores_window)\n",
    "\n",
    "#         if episode_idx % num_timestamp_per_print == 0:\n",
    "#             print(f\"Episode {episode_idx} -- Average score: {average_score}\")\n",
    "\n",
    "#         if average_score >= 30.0:\n",
    "#             print(f\"Problem solved within {episode_idx} episodes.\")\n",
    "#             print(f\"Average score: {average_score}\")\n",
    "#             break\n",
    "    \n",
    "#     return scores_by_episode"
   ]
  },
  {
   "cell_type": "code",
   "execution_count": 11,
   "metadata": {},
   "outputs": [],
   "source": [
    "def train_with_agent_manager(\n",
    "    env,\n",
    "    brain_name: str,\n",
    "    agent_manager: AgentManager,\n",
    "    n_episodes: int = 2000,\n",
    "    max_timestamp_per_episode: int = 1000,\n",
    "    num_timestamp_per_print: int = 100,\n",
    ") -> List[float]:\n",
    "    scores_window = deque(maxlen=num_timestamp_per_print)\n",
    "    scores_by_episode = []\n",
    "\n",
    "    for episode_idx in range(1, n_episodes + 1):\n",
    "        env_info = env.reset(train_mode=True)[brain_name]\n",
    "        states = env_info.vector_observations\n",
    "        agent_manager.reset()\n",
    "        scores = np.zeros(agent_manager.num_agents)\n",
    "\n",
    "        for timestamp in range(max_timestamp_per_episode):\n",
    "            actions = agent_manager.act(states)\n",
    "            env_info = env.step(actions)[brain_name]\n",
    "            next_states, rewards, dones = (\n",
    "                env_info.vector_observations,\n",
    "                env_info.rewards,\n",
    "                env_info.local_done,\n",
    "            )\n",
    "\n",
    "            agent_manager.step(states, actions, rewards, next_states, dones, timestamp)\n",
    "\n",
    "            states = next_states\n",
    "            scores += rewards\n",
    "            if np.any(dones):\n",
    "                break\n",
    "\n",
    "        average_score_by_episode = np.mean(scores)\n",
    "        scores_window.append(average_score_by_episode)\n",
    "        scores_by_episode.append(average_score_by_episode)\n",
    "        average_score = np.mean(scores_window)\n",
    "\n",
    "#         if episode_idx % num_timestamp_per_print == 0:\n",
    "        print(f\"Episode {episode_idx} -- Average score: {average_score}\")\n",
    "\n",
    "        if average_score >= 30.0:\n",
    "            print(f\"Problem solved within {episode_idx} episodes.\")\n",
    "            print(f\"Average score: {average_score}\")\n",
    "            break\n",
    "    \n",
    "    return scores_by_episode"
   ]
  },
  {
   "cell_type": "code",
   "execution_count": 12,
   "metadata": {},
   "outputs": [],
   "source": [
    "OVERWRITE = True\n",
    "ACTOR_MODEL_FILE_PATH = \"ddpg_actor_local.pt\"\n",
    "CRITIC_MODEL_FILE_PATH = \"ddpg_critic_local.pt\"\n",
    "\n",
    "# agents = [\n",
    "#     Agent(\n",
    "#         state_size=brain.vector_observation_space_size,\n",
    "#         action_size=brain.vector_action_space_size,\n",
    "#         seed=514,\n",
    "#     )\n",
    "#     for _ in range(num_agents)\n",
    "# ]\n",
    "agent_manager = AgentManager(\n",
    "    num_agents,\n",
    "    state_size=brain.vector_observation_space_size,\n",
    "    action_size=brain.vector_action_space_size,\n",
    "    seed=514,\n",
    ")"
   ]
  },
  {
   "cell_type": "code",
   "execution_count": 13,
   "metadata": {},
   "outputs": [
    {
     "name": "stdout",
     "output_type": "stream",
     "text": [
      "Episode 1 -- Average score: 0.1269999971613288\n",
      "Episode 2 -- Average score: 0.10074999774806201\n",
      "Episode 3 -- Average score: 0.16716666293020052\n",
      "Episode 4 -- Average score: 0.40337499098386614\n",
      "Episode 5 -- Average score: 0.6118999863229692\n",
      "Episode 6 -- Average score: 0.8650833139972139\n",
      "Episode 7 -- Average score: 1.0819285472455833\n",
      "Episode 8 -- Average score: 1.5418124655378052\n",
      "Episode 9 -- Average score: 2.3147777260384625\n",
      "Episode 10 -- Average score: 3.764349915860221\n",
      "Episode 11 -- Average score: 5.3190907901999624\n",
      "Episode 12 -- Average score: 7.062499842140824\n",
      "Episode 13 -- Average score: 8.841076725463454\n",
      "Episode 14 -- Average score: 10.488964051267663\n",
      "Episode 15 -- Average score: 11.94813306627174\n",
      "Episode 16 -- Average score: 13.325562202150468\n",
      "Episode 17 -- Average score: 14.609499673452229\n",
      "Episode 18 -- Average score: 15.785388536057955\n",
      "Episode 19 -- Average score: 16.840789097263237\n",
      "Episode 20 -- Average score: 17.763574602953163\n",
      "Episode 21 -- Average score: 18.659856725776837\n",
      "Episode 22 -- Average score: 19.460181383212863\n",
      "Episode 23 -- Average score: 20.208325635265236\n",
      "Episode 24 -- Average score: 20.924374532303776\n",
      "Episode 25 -- Average score: 21.620599516741933\n",
      "Episode 26 -- Average score: 22.269268733012275\n",
      "Episode 27 -- Average score: 22.882388377427645\n",
      "Episode 28 -- Average score: 23.439267333234397\n",
      "Episode 29 -- Average score: 23.978413257144137\n",
      "Episode 30 -- Average score: 24.46704945311882\n",
      "Episode 31 -- Average score: 24.934209120096337\n",
      "Episode 32 -- Average score: 25.371233807908723\n",
      "Episode 33 -- Average score: 25.791090332615106\n",
      "Episode 34 -- Average score: 26.17430823848802\n",
      "Episode 35 -- Average score: 26.544413692400394\n",
      "Episode 36 -- Average score: 26.896457732150644\n",
      "Episode 37 -- Average score: 27.227864256274664\n",
      "Episode 38 -- Average score: 27.547657278998713\n",
      "Episode 39 -- Average score: 27.847101941671326\n",
      "Episode 40 -- Average score: 28.12976187125081\n",
      "Episode 41 -- Average score: 28.398511560365737\n",
      "Episode 42 -- Average score: 28.65955888321845\n",
      "Episode 43 -- Average score: 28.91158074912463\n",
      "Episode 44 -- Average score: 29.14786298485811\n",
      "Episode 45 -- Average score: 29.362532677029563\n",
      "Episode 46 -- Average score: 29.57843412147915\n",
      "Episode 47 -- Average score: 29.782105717296766\n",
      "Episode 48 -- Average score: 29.97999932989478\n",
      "Episode 49 -- Average score: 30.167448305296805\n",
      "Problem solved within 49 episodes.\n",
      "Average score: 30.167448305296805\n"
     ]
    }
   ],
   "source": [
    "# scores_by_episode = train_with_agent(env, brain_name, agents)\n",
    "scores_by_episode = train_with_agent_manager(env, brain_name, agent_manager)"
   ]
  },
  {
   "cell_type": "code",
   "execution_count": 14,
   "metadata": {},
   "outputs": [],
   "source": [
    "# OVERWRITE = True\n",
    "# ACTOR_MODEL_FILE_PATH = \"ddpg_actor_local.pt\"\n",
    "# CRITIC_MODEL_FILE_PATH = \"ddpg_critic_local.pt\"\n",
    "\n",
    "# agent = Agent(\n",
    "#     state_size=brain.vector_observation_space_size,\n",
    "#     action_size=brain.vector_action_space_size,\n",
    "#     seed=514,\n",
    "# )\n",
    "\n",
    "# if (\n",
    "#     not OVERWRITE\n",
    "#     and os.path.exists(ACTOR_MODEL_FILE_PATH)\n",
    "#     and os.path.exists(CRITIC_MODEL_FILE_PATH)\n",
    "# ):\n",
    "#     agent.actor_local.load_state_dict(torch.load(ACTOR_MODEL_FILE_PATH))\n",
    "#     agent.critic_local.load_state_dict(torch.load(CRITIC_MODEL_FILE_PATH))\n",
    "# else:\n",
    "#     train(env, brain_name, agent)\n",
    "#     torch.save(agent.actor_local.state_dict(), ACTOR_MODEL_FILE_PATH)\n",
    "#     torch.save(agent.critic_local.state_dict(), ACTOR_MODEL_FILE_PATH)"
   ]
  },
  {
   "cell_type": "code",
   "execution_count": 15,
   "metadata": {},
   "outputs": [],
   "source": [
    "env.close()"
   ]
  }
 ],
 "metadata": {
  "kernelspec": {
   "display_name": "drlnd",
   "language": "python",
   "name": "drlnd"
  },
  "language_info": {
   "codemirror_mode": {
    "name": "ipython",
    "version": 3
   },
   "file_extension": ".py",
   "mimetype": "text/x-python",
   "name": "python",
   "nbconvert_exporter": "python",
   "pygments_lexer": "ipython3",
   "version": "3.6.13"
  }
 },
 "nbformat": 4,
 "nbformat_minor": 2
}
